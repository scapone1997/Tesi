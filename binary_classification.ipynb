{
 "cells": [
  {
   "cell_type": "code",
   "execution_count": null,
   "id": "initial_id",
   "metadata": {
    "ExecuteTime": {
     "end_time": "2025-10-03T15:28:21.179405Z",
     "start_time": "2025-10-03T15:28:20.573524Z"
    }
   },
   "outputs": [],
   "source": [
    "from river import datasets\n",
    "\n",
    "dataset = datasets.Phishing()\n",
    "dataset"
   ]
  },
  {
   "cell_type": "code",
   "execution_count": null,
   "id": "d3703d0b8e7dab3b",
   "metadata": {
    "ExecuteTime": {
     "end_time": "2025-10-03T15:28:27.884265Z",
     "start_time": "2025-10-03T15:28:27.874303Z"
    }
   },
   "outputs": [],
   "source": [
    "#Iterare il dataset\n",
    "for x, y in dataset:\n",
    "    pass\n"
   ]
  },
  {
   "cell_type": "code",
   "execution_count": null,
   "id": "82ad54960112d9f",
   "metadata": {
    "ExecuteTime": {
     "end_time": "2025-10-03T15:28:29.464402Z",
     "start_time": "2025-10-03T15:28:29.457803Z"
    }
   },
   "outputs": [],
   "source": [
    "#Guardare il primo sample\n",
    "x, y = next(iter(dataset))\n",
    "x"
   ]
  },
  {
   "cell_type": "code",
   "execution_count": null,
   "id": "1c12291f826a1258",
   "metadata": {
    "ExecuteTime": {
     "end_time": "2025-10-03T15:28:31.343816Z",
     "start_time": "2025-10-03T15:28:31.329414Z"
    }
   },
   "outputs": [],
   "source": [
    "y"
   ]
  },
  {
   "cell_type": "code",
   "execution_count": null,
   "id": "37ac911532adfd72",
   "metadata": {
    "ExecuteTime": {
     "end_time": "2025-10-03T15:28:33.019621Z",
     "start_time": "2025-10-03T15:28:32.527261Z"
    }
   },
   "outputs": [],
   "source": [
    "#Il modello restituisce  perche non è stato ancora addestrato.\n",
    "from river import linear_model\n",
    "\n",
    "model = linear_model.LogisticRegression()\n",
    "model.predict_proba_one(x)"
   ]
  },
  {
   "cell_type": "code",
   "execution_count": null,
   "id": "7fc90f6c37995349",
   "metadata": {
    "ExecuteTime": {
     "end_time": "2025-10-03T15:28:34.149785Z",
     "start_time": "2025-10-03T15:28:34.144415Z"
    }
   },
   "outputs": [],
   "source": [
    "# Dopo averlo addestrato su un sample la probabilità cambia\n",
    "model.learn_one(x, y)\n",
    "model.predict_proba_one(x)"
   ]
  },
  {
   "cell_type": "code",
   "execution_count": null,
   "id": "726a8565fa0229d8",
   "metadata": {
    "ExecuteTime": {
     "end_time": "2025-10-03T15:28:35.699207Z",
     "start_time": "2025-10-03T15:28:35.650474Z"
    }
   },
   "outputs": [],
   "source": [
    "#Progressive validation\n",
    "from river import metrics\n",
    "\n",
    "model = linear_model.LogisticRegression()\n",
    "metric = metrics.ROCAUC()\n",
    "\n",
    "for x, y in dataset:\n",
    "    y_pred = model.predict_proba_one(x)     # predice PRIMA di vedere l'etichetta\n",
    "    model.learn_one(x, y)                   # aggiorna il modello\n",
    "    metric.update(y, y_pred)                # aggiorna la metrica\n",
    "\n",
    "metric"
   ]
  },
  {
   "cell_type": "code",
   "execution_count": null,
   "id": "d394fefec182acc2",
   "metadata": {
    "ExecuteTime": {
     "end_time": "2025-10-03T15:28:37.056972Z",
     "start_time": "2025-10-03T15:28:37.010495Z"
    }
   },
   "outputs": [],
   "source": [
    "#Un modo ancora piu semplice per la progressive validation\n",
    "from river import evaluate\n",
    "\n",
    "model = linear_model.LogisticRegression()\n",
    "metric = metrics.ROCAUC()\n",
    "\n",
    "evaluate.progressive_val_score(dataset, model, metric)"
   ]
  },
  {
   "cell_type": "code",
   "execution_count": null,
   "id": "a10e3741a4bd5fd0",
   "metadata": {
    "ExecuteTime": {
     "end_time": "2025-10-03T15:28:38.380897Z",
     "start_time": "2025-10-03T15:28:38.350043Z"
    }
   },
   "outputs": [],
   "source": [
    "# Per migliorare le perfomarnace in uan logistic regression possiamo scalare i dati.\n",
    "# Facciamo uso di una pipeline per organizzare gli step in seguenza\n",
    "\n",
    "from river import compose\n",
    "from river import preprocessing\n",
    "\n",
    "model = compose.Pipeline(\n",
    "    preprocessing.StandardScaler(),\n",
    "    linear_model.LogisticRegression(),\n",
    ")\n",
    "\n",
    "model\n",
    "\n"
   ]
  },
  {
   "cell_type": "code",
   "execution_count": null,
   "id": "df6128b50b2bbac2",
   "metadata": {
    "ExecuteTime": {
     "end_time": "2025-10-03T15:30:43.829818Z",
     "start_time": "2025-10-03T15:30:43.759144Z"
    }
   },
   "outputs": [],
   "source": [
    "metric = metrics.ROCAUC()\n",
    "evaluate.progressive_val_score(dataset, model, metric)"
   ]
  }
 ],
 "metadata": {
  "kernelspec": {
   "display_name": "Python 3",
   "language": "python",
   "name": "python3"
  },
  "language_info": {
   "codemirror_mode": {
    "name": "ipython",
    "version": 2
   },
   "file_extension": ".py",
   "mimetype": "text/x-python",
   "name": "python",
   "nbconvert_exporter": "python",
   "pygments_lexer": "ipython2",
   "version": "2.7.6"
  }
 },
 "nbformat": 4,
 "nbformat_minor": 5
}
