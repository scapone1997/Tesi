{
 "cells": [
  {
   "cell_type": "code",
   "execution_count": null,
   "id": "initial_id",
   "metadata": {
    "ExecuteTime": {
     "end_time": "2025-10-15T15:24:58.468945Z",
     "start_time": "2025-10-15T15:24:55.176528Z"
    }
   },
   "outputs": [],
   "source": [
    "import os\n",
    "\n",
    "import pm4py\n",
    "\n",
    "# Percorso assoluto del file .xes\n",
    "base_dir = os.getcwd()\n",
    "xes_file = os.path.join(\n",
    "    base_dir,\n",
    "    \"BPI_challenge_prepaid_travel_costs\",\n",
    "    \"PrepaidTravelCost.xes\"\n",
    ")\n",
    "\n",
    "print(f\"File XES: {xes_file}\")\n",
    "\n",
    "# Lettura e conversione\n",
    "log = pm4py.read_xes(xes_file)\n",
    "df = pm4py.convert_to_dataframe(log)\n",
    "\n",
    "print(\"\\nPrime righe del dataset:\")\n",
    "display(df.head())\n",
    "\n",
    "# Esporta in CSV nella stessa cartella\n",
    "csv_path = xes_file.replace(\".xes\", \".csv\")\n",
    "df.to_csv(csv_path, index=False)\n",
    "\n",
    "print(f\"\\nFile CSV salvato in: {csv_path}\")"
   ]
  }
 ],
 "metadata": {
  "kernelspec": {
   "display_name": "Python 3",
   "language": "python",
   "name": "python3"
  },
  "language_info": {
   "codemirror_mode": {
    "name": "ipython",
    "version": 2
   },
   "file_extension": ".py",
   "mimetype": "text/x-python",
   "name": "python",
   "nbconvert_exporter": "python",
   "pygments_lexer": "ipython2",
   "version": "2.7.6"
  }
 },
 "nbformat": 4,
 "nbformat_minor": 5
}
